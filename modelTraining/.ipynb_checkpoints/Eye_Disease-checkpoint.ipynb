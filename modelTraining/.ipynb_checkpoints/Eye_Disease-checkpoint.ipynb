{
 "cells": [
  {
   "cell_type": "code",
   "execution_count": 27,
   "id": "a93074cc",
   "metadata": {},
   "outputs": [],
   "source": [
    "import numpy as np\n",
    "import cv2\n",
    "import tensorflow as tf\n",
    "from tensorflow.keras.models import load_model\n",
    "\n",
    "\n",
    "mod = load_model('eyedisease.h5')\n",
    "np.set_printoptions(suppress=True)"
   ]
  },
  {
   "cell_type": "code",
   "execution_count": 43,
   "id": "f991f2e0",
   "metadata": {},
   "outputs": [],
   "source": [
    "face_detect = cv2.CascadeClassifier('haarcascade_frontalface_default.xml')\n",
    "eye_detect = cv2.CascadeClassifier('haarcascade_eye.xml')"
   ]
  },
  {
   "cell_type": "code",
   "execution_count": 28,
   "id": "408c3100",
   "metadata": {},
   "outputs": [],
   "source": [
    "class_names_eye = ['Bulging', 'Cataract', 'Crossed', 'Glaucoma', 'NoDisease', 'Uvetis']"
   ]
  },
  {
   "cell_type": "code",
   "execution_count": 29,
   "id": "bcdff563",
   "metadata": {},
   "outputs": [],
   "source": [
    "def predict(model, img):\n",
    "        img_array = tf.keras.preprocessing.image.img_to_array(img)\n",
    "        img_array = tf.expand_dims(img_array, 0)\n",
    "        predictions = model.predict(img_array)\n",
    "        id = np.argmax(predictions[0])\n",
    "        predicted_class = class_names_eye[id]\n",
    "        # confidence = round(100 * (np.max(predictions[0])), 2)\n",
    "        return predicted_class, id+1"
   ]
  },
  {
   "cell_type": "code",
   "execution_count": 44,
   "id": "956cac4d",
   "metadata": {},
   "outputs": [
    {
     "name": "stdout",
     "output_type": "stream",
     "text": [
      "Eczema Photos 2\n",
      "Eczema Photos 2\n",
      "Eczema Photos 2\n",
      "Eczema Photos 2\n",
      "Eczema Photos 2\n",
      "Eczema Photos 2\n",
      "Eczema Photos 2\n",
      "Eczema Photos 2\n",
      "Eczema Photos 2\n",
      "Eczema Photos 2\n",
      "Eczema Photos 2\n",
      "Eczema Photos 2\n",
      "Eczema Photos 2\n",
      "Eczema Photos 2\n",
      "Eczema Photos 2\n",
      "Eczema Photos 2\n"
     ]
    }
   ],
   "source": [
    "source = cv2.VideoCapture(0)\n",
    "while 1:\n",
    "    not_to_use, image = source.read()\n",
    "    gray = cv2.cvtColor(image, cv2.COLOR_BGR2GRAY)\n",
    "    faces = face_detect.detectMultiScale(gray, 1.3, 2)\n",
    "#     self.print_details(fetch_details(id))\n",
    "    for (x,y,w,h) in faces:\n",
    "        face_roi = gray[y:y+w, x:x+h]\n",
    "        color = image[y:y+w, x:x+h]\n",
    "        image1 = cv2.resize(image, (224, 224))\n",
    "        normalized_image = image1/255\n",
    "        eyes = eye_detect.detectMultiScale(face_roi, 1.5, 1)\n",
    "        resized_image = cv2.resize(face_roi, (224, 224))\n",
    "        normalized_image = resized_image/255\n",
    "        for (ex, ey, ew, eh) in eyes:\n",
    "            result, idd = predict(model, normalized_image)\n",
    "            print(result, idd)\n",
    "            cv2.rectangle(color, (ex, ey), (ex + ew, ey + eh), (0, 255, 0), 2)\n",
    "            cv2.putText(color,str(idd), (ex, ey), cv2.FONT_HERSHEY_SIMPLEX, 0.5, (0, 255, 0), 2)\n",
    "            \n",
    "#         cv2.putText(normalized_image,str(self.fetch_details(id)), (x, y), cv2.FONT_HERSHEY_SIMPLEX, 0.5, (0, 255, 0), 2)\n",
    "    cv2.imshow('Dermitection!', image)\n",
    "    key = cv2.waitKey(1)\n",
    "    if key == 27:\n",
    "        break\n",
    "    \n",
    "cv2.destroyAllWindows()\n",
    "source.release()"
   ]
  },
  {
   "cell_type": "code",
   "execution_count": 38,
   "id": "c2f7d4c1",
   "metadata": {},
   "outputs": [],
   "source": [
    "cv2.destroyAllWindows()\n",
    "source.release()"
   ]
  },
  {
   "cell_type": "code",
   "execution_count": null,
   "id": "120be1b0",
   "metadata": {},
   "outputs": [],
   "source": []
  }
 ],
 "metadata": {
  "kernelspec": {
   "display_name": "Python 3 (ipykernel)",
   "language": "python",
   "name": "python3"
  },
  "language_info": {
   "codemirror_mode": {
    "name": "ipython",
    "version": 3
   },
   "file_extension": ".py",
   "mimetype": "text/x-python",
   "name": "python",
   "nbconvert_exporter": "python",
   "pygments_lexer": "ipython3",
   "version": "3.9.13"
  }
 },
 "nbformat": 4,
 "nbformat_minor": 5
}
