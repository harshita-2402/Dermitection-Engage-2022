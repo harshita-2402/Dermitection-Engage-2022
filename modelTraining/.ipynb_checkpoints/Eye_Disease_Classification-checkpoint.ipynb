{
 "cells": [
  {
   "cell_type": "code",
   "execution_count": 1,
   "id": "4abf6e9b",
   "metadata": {},
   "outputs": [],
   "source": [
    "#importing libraries\n",
    "import numpy as np # linear algebra\n",
    "import pandas as pd # data processing, CSV file I/O (e.g. pd.read_csv)\n",
    "import os"
   ]
  },
  {
   "cell_type": "code",
   "execution_count": 2,
   "id": "6a07157f",
   "metadata": {},
   "outputs": [],
   "source": [
    "#importing data\n",
    "eye_dir='F:/Harshita/Datasets/EngageDisease/Eye'\n",
    "nose_dir='F:/Harshita/Datasets/EngageDisease/Nose'"
   ]
  },
  {
   "cell_type": "code",
   "execution_count": 3,
   "id": "9fffd746",
   "metadata": {},
   "outputs": [],
   "source": [
    "#importing tensorflow libraries\n",
    "import matplotlib.pyplot as plt\n",
    "from sklearn.preprocessing import LabelEncoder\n",
    "import cv2\n",
    "from sklearn.model_selection import train_test_split\n",
    "from sklearn.utils import shuffle\n",
    "\n",
    "from tensorflow.keras.models import Sequential\n",
    "from tensorflow.keras.layers import Dense,Dropout,Flatten\n",
    "from tensorflow.keras.layers import Conv2D,MaxPool2D\n",
    "from tensorflow.keras.layers import Input, Dense\n",
    "from tensorflow.keras.models import Model\n",
    "from tensorflow.keras.preprocessing.image import ImageDataGenerator\n",
    "from sklearn.metrics import confusion_matrix\n",
    "import matplotlib.pyplot as plt\n",
    "from numpy import argmax"
   ]
  },
  {
   "cell_type": "code",
   "execution_count": 4,
   "id": "fda3b2fb",
   "metadata": {},
   "outputs": [
    {
     "data": {
      "text/plain": [
       "['Bulging_Eyes',\n",
       " 'Cataracts',\n",
       " 'Crossed_Eyes',\n",
       " 'Glaucoma',\n",
       " 'NoDisease',\n",
       " 'Uveitis']"
      ]
     },
     "execution_count": 4,
     "metadata": {},
     "output_type": "execute_result"
    }
   ],
   "source": [
    "#classes list\n",
    "data_dir_list = os.listdir(eye_dir)\n",
    "data_dir_list"
   ]
  },
  {
   "cell_type": "code",
   "execution_count": 5,
   "id": "9a8e0953",
   "metadata": {},
   "outputs": [
    {
     "name": "stdout",
     "output_type": "stream",
     "text": [
      "Getting image from Bulging_Eyes folder\n",
      "Getting image from Cataracts folder\n",
      "Getting image from Crossed_Eyes folder\n",
      "Getting image from Glaucoma folder\n",
      "Getting image from NoDisease folder\n",
      "Getting image from Uveitis folder\n"
     ]
    }
   ],
   "source": [
    "#obtaining images\n",
    "img_rows=224\n",
    "img_cols=224\n",
    "num_channel=3\n",
    "\n",
    "num_epoch = 50\n",
    "batch_size = 32\n",
    "\n",
    "img_data_list=[]\n",
    "classes_names_list=[]\n",
    "target_column=[]\n",
    "for dataset in data_dir_list:\n",
    "    classes_names_list.append(dataset)\n",
    "    print(\"Getting image from {} folder\".format(dataset))\n",
    "    img_list= os.listdir(eye_dir +\"/\"+ dataset)\n",
    "    for img in img_list:\n",
    "        input_img = cv2.imread(eye_dir +\"/\"+dataset+\"/\"+img)\n",
    "        input_img_resize=cv2.resize(input_img,(img_rows,img_cols))\n",
    "        img_data_list.append(input_img_resize)\n",
    "        target_column.append(dataset)"
   ]
  },
  {
   "cell_type": "code",
   "execution_count": 6,
   "id": "3a61daf4",
   "metadata": {},
   "outputs": [
    {
     "name": "stdout",
     "output_type": "stream",
     "text": [
      "num_classes 6\n",
      "Shape of image data (412, 224, 224, 3)\n"
     ]
    }
   ],
   "source": [
    "num_classes = len(classes_names_list)\n",
    "print(\"num_classes\",num_classes)\n",
    "img_data = np.array(img_data_list) # convert images in numpy array \n",
    "img_data = img_data.astype('float32')\n",
    "img_data /= 255\n",
    "print(\"Shape of image data\",img_data.shape)\n",
    "num_of_samples = img_data.shape[0]\n",
    "input_shape = img_data[0].shape \n",
    "# print(\"number of samples\",num_of_samples)\n",
    "# print(\"target column before encoding\",target_column)"
   ]
  },
  {
   "cell_type": "code",
   "execution_count": 7,
   "id": "39affb92",
   "metadata": {},
   "outputs": [
    {
     "data": {
      "text/plain": [
       "array([0, 1, 2, 3, 4, 5], dtype=int64)"
      ]
     },
     "execution_count": 7,
     "metadata": {},
     "output_type": "execute_result"
    }
   ],
   "source": [
    "#Label ecnoding of classes\n",
    "Labelencoder = LabelEncoder()\n",
    "target_column = Labelencoder.fit_transform(target_column)\n",
    "np.unique(target_column)"
   ]
  },
  {
   "cell_type": "code",
   "execution_count": 8,
   "id": "520cfb59",
   "metadata": {},
   "outputs": [],
   "source": [
    "#Performing test-train split\n",
    "\n",
    "from tensorflow.keras.utils import to_categorical\n",
    "target_column_hotcoded = to_categorical(target_column,num_classes)\n",
    "X,Y = shuffle(img_data,target_column_hotcoded,random_state=2)\n",
    "X_train,X_temp,y_train,y_temp = train_test_split(X,Y,test_size=0.3,random_state=2)\n",
    "X_test,X_val,y_test,y_val = train_test_split(X_temp,y_temp,test_size=0.3,random_state=2)"
   ]
  },
  {
   "cell_type": "code",
   "execution_count": 9,
   "id": "7c194d55",
   "metadata": {},
   "outputs": [
    {
     "name": "stdout",
     "output_type": "stream",
     "text": [
      "Model: \"sequential\"\n",
      "_________________________________________________________________\n",
      " Layer (type)                Output Shape              Param #   \n",
      "=================================================================\n",
      " conv2d (Conv2D)             (None, 222, 222, 64)      1792      \n",
      "                                                                 \n",
      " conv2d_1 (Conv2D)           (None, 220, 220, 64)      36928     \n",
      "                                                                 \n",
      " max_pooling2d (MaxPooling2D  (None, 110, 110, 64)     0         \n",
      " )                                                               \n",
      "                                                                 \n",
      " dropout (Dropout)           (None, 110, 110, 64)      0         \n",
      "                                                                 \n",
      " flatten (Flatten)           (None, 774400)            0         \n",
      "                                                                 \n",
      " dense (Dense)               (None, 128)               99123328  \n",
      "                                                                 \n",
      " dropout_1 (Dropout)         (None, 128)               0         \n",
      "                                                                 \n",
      " dense_1 (Dense)             (None, 6)                 774       \n",
      "                                                                 \n",
      "=================================================================\n",
      "Total params: 99,162,822\n",
      "Trainable params: 99,162,822\n",
      "Non-trainable params: 0\n",
      "_________________________________________________________________\n"
     ]
    }
   ],
   "source": [
    "# CNN Model\n",
    "first_Mod = Sequential()\n",
    "\n",
    "first_Mod.add(Conv2D(64,(3,3),activation='relu',input_shape=input_shape))\n",
    "first_Mod.add(Conv2D(64,(3,3),activation='relu'))\n",
    "first_Mod.add(MaxPool2D(pool_size=(2,2)))\n",
    "first_Mod.add(Dropout(0.2))\n",
    "\n",
    "# first_Mod.add(Conv2D(128,(3,3),activation='relu'))\n",
    "# first_Mod.add(Conv2D(128,(3,3),activation='relu'))\n",
    "# first_Mod.add(MaxPool2D(pool_size=(2,2)))\n",
    "# first_Mod.add(Dropout(0.2))\n",
    "\n",
    "first_Mod.add(Flatten())\n",
    "first_Mod.add(Dense(128,activation='relu'))\n",
    "first_Mod.add(Dropout(0.2))\n",
    "first_Mod.add(Dense(num_classes,activation='softmax'))\n",
    "first_Mod.compile(loss='categorical_crossentropy',optimizer='adam',metrics=['accuracy'])\n",
    "\n",
    "first_Mod.summary()"
   ]
  },
  {
   "cell_type": "code",
   "execution_count": 10,
   "id": "ec402e56",
   "metadata": {
    "scrolled": true
   },
   "outputs": [
    {
     "name": "stdout",
     "output_type": "stream",
     "text": [
      "Epoch 1/20\n",
      "9/9 [==============================] - 76s 8s/step - loss: 21.2871 - accuracy: 0.2986 - val_loss: 1.8199 - val_accuracy: 0.1512\n",
      "Epoch 2/20\n",
      "9/9 [==============================] - 67s 8s/step - loss: 1.6078 - accuracy: 0.3750 - val_loss: 1.6085 - val_accuracy: 0.2674\n",
      "Epoch 3/20\n",
      "9/9 [==============================] - 66s 7s/step - loss: 1.5438 - accuracy: 0.4479 - val_loss: 1.6893 - val_accuracy: 0.3488\n",
      "Epoch 4/20\n",
      "9/9 [==============================] - 66s 7s/step - loss: 1.2101 - accuracy: 0.5312 - val_loss: 1.8255 - val_accuracy: 0.3372\n",
      "Epoch 5/20\n",
      "9/9 [==============================] - 66s 7s/step - loss: 0.9698 - accuracy: 0.6354 - val_loss: 1.8677 - val_accuracy: 0.3140\n",
      "Epoch 6/20\n",
      "9/9 [==============================] - 65s 7s/step - loss: 0.5928 - accuracy: 0.8333 - val_loss: 2.1135 - val_accuracy: 0.3023\n",
      "Epoch 7/20\n",
      "9/9 [==============================] - 64s 7s/step - loss: 0.4629 - accuracy: 0.9028 - val_loss: 1.8815 - val_accuracy: 0.3372\n",
      "Epoch 8/20\n",
      "9/9 [==============================] - 65s 7s/step - loss: 0.1905 - accuracy: 0.9688 - val_loss: 2.6281 - val_accuracy: 0.3721\n",
      "Epoch 9/20\n",
      "9/9 [==============================] - 64s 7s/step - loss: 0.0903 - accuracy: 0.9896 - val_loss: 2.3143 - val_accuracy: 0.3140\n",
      "Epoch 10/20\n",
      "9/9 [==============================] - 64s 7s/step - loss: 0.0483 - accuracy: 0.9965 - val_loss: 3.0542 - val_accuracy: 0.3953\n",
      "Epoch 11/20\n",
      "9/9 [==============================] - 64s 7s/step - loss: 0.0206 - accuracy: 0.9931 - val_loss: 2.8507 - val_accuracy: 0.4767\n",
      "Epoch 12/20\n",
      "9/9 [==============================] - 64s 7s/step - loss: 0.0115 - accuracy: 1.0000 - val_loss: 2.9063 - val_accuracy: 0.4535\n",
      "Epoch 13/20\n",
      "9/9 [==============================] - 64s 7s/step - loss: 0.0044 - accuracy: 1.0000 - val_loss: 2.9962 - val_accuracy: 0.3953\n",
      "Epoch 14/20\n",
      "9/9 [==============================] - 64s 7s/step - loss: 0.0030 - accuracy: 1.0000 - val_loss: 2.9379 - val_accuracy: 0.3953\n",
      "Epoch 15/20\n",
      "9/9 [==============================] - 66s 7s/step - loss: 0.0020 - accuracy: 1.0000 - val_loss: 3.1413 - val_accuracy: 0.4070\n",
      "Epoch 16/20\n",
      "9/9 [==============================] - 66s 7s/step - loss: 0.0017 - accuracy: 1.0000 - val_loss: 3.1746 - val_accuracy: 0.4535\n",
      "Epoch 17/20\n",
      "9/9 [==============================] - 65s 7s/step - loss: 0.0012 - accuracy: 1.0000 - val_loss: 3.4549 - val_accuracy: 0.4651\n",
      "Epoch 18/20\n",
      "9/9 [==============================] - 67s 7s/step - loss: 9.1958e-04 - accuracy: 1.0000 - val_loss: 3.4760 - val_accuracy: 0.4302\n",
      "Epoch 19/20\n",
      "9/9 [==============================] - 66s 7s/step - loss: 5.9650e-04 - accuracy: 1.0000 - val_loss: 3.4448 - val_accuracy: 0.4070\n",
      "Epoch 20/20\n",
      "9/9 [==============================] - 65s 7s/step - loss: 0.0069 - accuracy: 0.9965 - val_loss: 3.5709 - val_accuracy: 0.4070\n",
      "3/3 [==============================] - 5s 1s/step - loss: 3.5709 - accuracy: 0.4070\n",
      "Test Loss 3.5708587169647217\n",
      "Test Accuracy 0.40697672963142395\n"
     ]
    }
   ],
   "source": [
    "hist = first_Mod.fit(X_train,y_train,batch_size=batch_size,epochs=20,verbose=1,validation_data=(X_test,y_test))\n",
    "score = first_Mod.evaluate(X_test,y_test,batch_size=batch_size)\n",
    "print('Test Loss',score[0])\n",
    "print(\"Test Accuracy\",score[1])"
   ]
  },
  {
   "cell_type": "code",
   "execution_count": 12,
   "id": "5936f5d3",
   "metadata": {},
   "outputs": [],
   "source": [
    "import tensorflow as tf"
   ]
  },
  {
   "cell_type": "code",
   "execution_count": 20,
   "id": "b00ab303",
   "metadata": {},
   "outputs": [],
   "source": [
    "test_img_path = 'F:/Harshita/Engage/EngageProj/FaceRecog/static/assets/img/eye.jpg'\n",
    "test_img = cv2.imread(test_img_path)\n",
    "test_img = cv2.resize(test_img, (224, 224))\n",
    "img_array = tf.keras.preprocessing.image.img_to_array(test_img)\n",
    "img_array = tf.expand_dims(img_array, 0)\n",
    "\n",
    "predictions = first_Mod.predict(img_array)\n",
    "\n",
    "predicted_class = data_dir_list[np.argmax(predictions[0])]"
   ]
  },
  {
   "cell_type": "code",
   "execution_count": 21,
   "id": "e059ad88",
   "metadata": {},
   "outputs": [
    {
     "data": {
      "text/plain": [
       "array([0.0000000e+00, 0.0000000e+00, 1.0000000e+00, 1.3822796e-38,\n",
       "       0.0000000e+00, 0.0000000e+00], dtype=float32)"
      ]
     },
     "execution_count": 21,
     "metadata": {},
     "output_type": "execute_result"
    }
   ],
   "source": [
    "predictions[0]"
   ]
  },
  {
   "cell_type": "code",
   "execution_count": 22,
   "id": "de6bbd9d",
   "metadata": {},
   "outputs": [
    {
     "data": {
      "text/plain": [
       "'Crossed_Eyes'"
      ]
     },
     "execution_count": 22,
     "metadata": {},
     "output_type": "execute_result"
    }
   ],
   "source": [
    "predicted_class"
   ]
  },
  {
   "cell_type": "code",
   "execution_count": 17,
   "id": "5e2e685f",
   "metadata": {},
   "outputs": [],
   "source": [
    "from tensorflow.keras.models import load_model\n",
    "first_Mod.save('eye_disease.h5')"
   ]
  },
  {
   "cell_type": "code",
   "execution_count": 19,
   "id": "09c599f8",
   "metadata": {},
   "outputs": [
    {
     "data": {
      "image/png": "[encoded data removed]",
      "text/plain": [
       "<Figure size 1440x720 with 2 Axes>"
      ]
     },
     "metadata": {
      "needs_background": "light"
     },
     "output_type": "display_data"
    }
   ],
   "source": [
    "epochs = [i for i in range(20)]\n",
    "fig , ax = plt.subplots(1,2)\n",
    "train_acc = hist.history['accuracy']\n",
    "train_loss = hist.history['loss']\n",
    "val_acc = hist.history['val_accuracy']\n",
    "val_loss = hist.history['val_loss']\n",
    "fig.set_size_inches(20,10)\n",
    "\n",
    "ax[0].plot(epochs , train_acc , 'go-' , label = 'Training Accuracy')\n",
    "ax[0].plot(epochs , val_acc , 'ro-' , label = 'Validation Accuracy')\n",
    "ax[0].set_title('Training & Validation Accuracy')\n",
    "ax[0].legend()\n",
    "ax[0].set_xlabel(\"Epochs\")\n",
    "ax[0].set_ylabel(\"Accuracy\")\n",
    "\n",
    "ax[1].plot(epochs , train_loss , 'g-o' , label = 'Training Loss')\n",
    "ax[1].plot(epochs , val_loss , 'r-o' , label = 'Validation Loss')\n",
    "ax[1].set_title('Testing Accuracy & Loss')\n",
    "ax[1].legend()\n",
    "ax[1].set_xlabel(\"Epochs\")\n",
    "ax[1].set_ylabel(\"Training & Validation Loss\")\n",
    "plt.show()"
   ]
  },
  {
   "cell_type": "code",
   "execution_count": null,
   "id": "c78ea38b",
   "metadata": {},
   "outputs": [],
   "source": []
  }
 ],
 "metadata": {
  "kernelspec": {
   "display_name": "Python 3 (ipykernel)",
   "language": "python",
   "name": "python3"
  },
  "language_info": {
   "codemirror_mode": {
    "name": "ipython",
    "version": 3
   },
   "file_extension": ".py",
   "mimetype": "text/x-python",
   "name": "python",
   "nbconvert_exporter": "python",
   "pygments_lexer": "ipython3",
   "version": "3.9.13"
  }
 },
 "nbformat": 4,
 "nbformat_minor": 5
}
